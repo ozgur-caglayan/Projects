{
 "cells": [
  {
   "cell_type": "markdown",
   "metadata": {},
   "source": [
    "# Project"
   ]
  },
  {
   "cell_type": "markdown",
   "metadata": {},
   "source": [
    "## Description"
   ]
  },
  {
   "cell_type": "markdown",
   "metadata": {},
   "source": [
    "Create a randomly sized list of between 10 and 50 elements (inclusive)\n",
    "\n",
    "Elements will be randomly sized integers between 1 and 100 (inclusive)\n",
    "\n",
    "Sort the list using the method of your choice\n",
    "\n",
    "Display the first three and last three elements of your sorted list\n",
    "\n",
    "Display the average value of your list to one decimal point\n",
    "\n",
    "Display the median value of the list to one decimal point\n",
    "\n",
    "Note: If the list is an odd size, the median is the middle element. If the list is an even size, the median is the average of the two middle elements."
   ]
  },
  {
   "cell_type": "markdown",
   "metadata": {},
   "source": [
    "## Solution"
   ]
  },
  {
   "cell_type": "code",
   "execution_count": 1,
   "metadata": {},
   "outputs": [],
   "source": [
    "import numpy as np"
   ]
  },
  {
   "cell_type": "code",
   "execution_count": 2,
   "metadata": {},
   "outputs": [
    {
     "name": "stdout",
     "output_type": "stream",
     "text": [
      "How many element do you want to be listed ? (Select 10 to 50): 15\n",
      "[76, 89, 94, 95, 4, 41, 3, 60, 37, 88, 70, 89, 67, 88, 94]\n"
     ]
    }
   ],
   "source": [
    "your_list = []\n",
    "x = int(input('How many element do you want to be listed ? (Select 10 to 50): '))\n",
    "for i in range(x):\n",
    "    element = np.random.randint(1, 100)\n",
    "    your_list.append(element)\n",
    "print (your_list)"
   ]
  },
  {
   "cell_type": "code",
   "execution_count": 3,
   "metadata": {},
   "outputs": [
    {
     "name": "stdout",
     "output_type": "stream",
     "text": [
      "[3, 4, 37, 41, 60, 67, 70, 76, 88, 88, 89, 89, 94, 94, 95]\n"
     ]
    }
   ],
   "source": [
    "sorted_list = sorted(your_list)\n",
    "print(sorted_list)"
   ]
  },
  {
   "cell_type": "code",
   "execution_count": 4,
   "metadata": {},
   "outputs": [
    {
     "name": "stdout",
     "output_type": "stream",
     "text": [
      "[3, 4, 37]\n",
      "[94, 94, 95]\n"
     ]
    }
   ],
   "source": [
    "print(sorted_list[0:3])\n",
    "print(sorted_list[x-3:])"
   ]
  },
  {
   "cell_type": "code",
   "execution_count": 5,
   "metadata": {},
   "outputs": [
    {
     "name": "stdout",
     "output_type": "stream",
     "text": [
      "66.3\n"
     ]
    }
   ],
   "source": [
    "avg_list = round(np.mean(sorted_list),1)\n",
    "print(avg_list)"
   ]
  },
  {
   "cell_type": "code",
   "execution_count": 6,
   "metadata": {},
   "outputs": [
    {
     "name": "stdout",
     "output_type": "stream",
     "text": [
      "76.0\n"
     ]
    }
   ],
   "source": [
    "median_list = round(np.median(sorted_list),1)\n",
    "print(median_list)"
   ]
  }
 ],
 "metadata": {
  "kernelspec": {
   "display_name": "Python 3",
   "language": "python",
   "name": "python3"
  },
  "language_info": {
   "codemirror_mode": {
    "name": "ipython",
    "version": 3
   },
   "file_extension": ".py",
   "mimetype": "text/x-python",
   "name": "python",
   "nbconvert_exporter": "python",
   "pygments_lexer": "ipython3",
   "version": "3.7.0"
  }
 },
 "nbformat": 4,
 "nbformat_minor": 2
}
